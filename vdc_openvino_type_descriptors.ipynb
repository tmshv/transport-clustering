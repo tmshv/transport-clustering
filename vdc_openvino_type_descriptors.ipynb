{
 "cells": [
  {
   "cell_type": "code",
   "execution_count": 61,
   "metadata": {},
   "outputs": [],
   "source": [
    "from reid_config.paths import PROCESSED_DATA, VAL_MODELS, BEST_MODELS, SOURCE\n",
    "import os\n",
    "import cv2\n",
    "import numpy as np\n",
    "from openvino.inference_engine import IECore\n",
    "from tqdm import tqdm\n",
    "import pickle"
   ]
  },
  {
   "cell_type": "code",
   "execution_count": 44,
   "metadata": {},
   "outputs": [],
   "source": [
    "def preprocess(path):\n",
    "    img = cv2.imread(path)\n",
    "    img = np.expand_dims(np.array(cv2.resize(img, (224, 224)), dtype=\"float32\")/255.0, axis=0)\n",
    "    img = np.transpose(img, (0, 3, 1, 2))\n",
    "    return img\n",
    "\n",
    "class openvino_inf:\n",
    "    def __init__(self, model_path, weights_path):\n",
    "        ie = IECore()\n",
    "        net = ie.read_network(model_path, weights_path)\n",
    "        self.input_name = [input_name for input_name in net.input_info][0]\n",
    "        self.output_name = 'StatefulPartitionedCall/vehtype-mn/global_average_pooling2d_1/Mean'\n",
    "        net.add_outputs([self.output_name])\n",
    "        self.inf_net = ie.load_network(network=net, device_name='CPU')\n",
    "    \n",
    "    def run(self, img):\n",
    "        return self.inf_net.infer({self.input_name: img})[self.output_name]"
   ]
  },
  {
   "cell_type": "code",
   "execution_count": 55,
   "metadata": {},
   "outputs": [
    {
     "data": {
      "text/plain": [
       "(416314, 416314)"
      ]
     },
     "execution_count": 55,
     "metadata": {},
     "output_type": "execute_result"
    }
   ],
   "source": [
    "DATA_PATH = 'C:\\\\Users\\\\A_Pot\\\\Documents\\\\WorkProjects\\\\raw_data\\\\vdc\\\\veriwild'\n",
    "\n",
    "paths = []\n",
    "idxs = []\n",
    "idx = 0\n",
    "for one in os.listdir(DATA_PATH):\n",
    "    for two in os.listdir(os.path.join(DATA_PATH, one)):\n",
    "        img_names = os.listdir(os.path.join(DATA_PATH, one, two))\n",
    "        paths += list(map(lambda x: os.path.join(DATA_PATH, one, two, x), img_names))\n",
    "        idxs += [idx] * len(img_names) \n",
    "        idx += 1\n",
    "        \n",
    "len(paths), len(idxs)"
   ]
  },
  {
   "cell_type": "code",
   "execution_count": 56,
   "metadata": {},
   "outputs": [
    {
     "name": "stderr",
     "output_type": "stream",
     "text": [
      "100%|█████████████████████████████████████████████████████████████████████████| 416314/416314 [39:23<00:00, 176.15it/s]\n"
     ]
    },
    {
     "data": {
      "text/plain": [
       "416314"
      ]
     },
     "execution_count": 56,
     "metadata": {},
     "output_type": "execute_result"
    }
   ],
   "source": [
    "model_name = 'vdc_type_model'\n",
    "model_path = os.path.join(VAL_MODELS, model_name + '.xml')\n",
    "weights_path = model_path[:-3] + 'bin'\n",
    "\n",
    "model = openvino_inf(model_path, weights_path)\n",
    "descriptors = []\n",
    "\n",
    "for path in tqdm(paths):\n",
    "    descriptors.append(model.run(preprocess(path)).flatten())\n",
    "\n",
    "len(descriptors)"
   ]
  },
  {
   "cell_type": "code",
   "execution_count": 58,
   "metadata": {},
   "outputs": [
    {
     "data": {
      "text/plain": [
       "(416314, 512)"
      ]
     },
     "execution_count": 58,
     "metadata": {},
     "output_type": "execute_result"
    }
   ],
   "source": [
    "descriptors = np.stack(descriptors, axis=0) \n",
    "descriptors"
   ]
  },
  {
   "cell_type": "code",
   "execution_count": 62,
   "metadata": {},
   "outputs": [],
   "source": [
    "with open('vdc_type.pickle', 'wb') as f:\n",
    "    pickle.dump(descriptors, f)"
   ]
  }
 ],
 "metadata": {
  "kernelspec": {
   "display_name": "Python 3",
   "language": "python",
   "name": "python3"
  },
  "language_info": {
   "codemirror_mode": {
    "name": "ipython",
    "version": 3
   },
   "file_extension": ".py",
   "mimetype": "text/x-python",
   "name": "python",
   "nbconvert_exporter": "python",
   "pygments_lexer": "ipython3",
   "version": "3.8.5"
  }
 },
 "nbformat": 4,
 "nbformat_minor": 4
}
