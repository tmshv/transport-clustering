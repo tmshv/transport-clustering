{
 "cells": [
  {
   "cell_type": "code",
   "execution_count": 9,
   "metadata": {},
   "outputs": [],
   "source": [
    "import numpy as np\n",
    "import tqdm\n",
    "import json\n",
    "from PIL import Image\n",
    "import torch\n",
    "import os\n",
    "from torchvision import transforms\n",
    "from efficientnet_pytorch import EfficientNet\n",
    "import pandas as pd\n",
    "from torch.nn import AdaptiveAvgPool2d\n",
    "import pickle"
   ]
  },
  {
   "cell_type": "code",
   "execution_count": null,
   "metadata": {},
   "outputs": [],
   "source": [
    "class MyIterableDataset(torch.utils.data.IterableDataset):\n",
    "    def __init__(self):\n",
    "        super(MyIterableDataset).__init__()\n",
    "        \n",
    "    def __iter__(self):\n",
    "        for i in range(len(paths)):\n",
    "            yield tfms(Image.open(paths[i]))"
   ]
  },
  {
   "cell_type": "code",
   "execution_count": 3,
   "metadata": {},
   "outputs": [
    {
     "name": "stdout",
     "output_type": "stream",
     "text": [
      "Wall time: 15.9 s\n"
     ]
    }
   ],
   "source": [
    "%%time\n",
    "\n",
    "DATA_PATH = 'C:\\\\Users\\\\A_Pot\\\\Documents\\\\WorkProjects\\\\raw_data\\\\vdc\\\\veriwild'\n",
    "\n",
    "paths = []\n",
    "idxs = []\n",
    "idx = 0\n",
    "for one in os.listdir(DATA_PATH):\n",
    "    for two in os.listdir(os.path.join(DATA_PATH, one)):\n",
    "        img_names = os.listdir(os.path.join(DATA_PATH, one, two))\n",
    "        paths += list(map(lambda x: os.path.join(DATA_PATH, one, two, x), img_names))\n",
    "        idxs += [idx] * len(img_names) \n",
    "        idx += 1"
   ]
  },
  {
   "cell_type": "code",
   "execution_count": 4,
   "metadata": {},
   "outputs": [
    {
     "data": {
      "text/plain": [
       "(416314, 416314)"
      ]
     },
     "execution_count": 4,
     "metadata": {},
     "output_type": "execute_result"
    }
   ],
   "source": [
    "len(paths), len(idxs)"
   ]
  },
  {
   "cell_type": "code",
   "execution_count": 6,
   "metadata": {
    "scrolled": true
   },
   "outputs": [
    {
     "name": "stdout",
     "output_type": "stream",
     "text": [
      "Loaded pretrained weights for efficientnet-b7\n"
     ]
    }
   ],
   "source": [
    "model = EfficientNet.from_pretrained('efficientnet-b7').cuda()\n",
    "\n",
    "tfms = transforms.Compose([transforms.Resize((224, 224)), transforms.ToTensor(),\n",
    "    transforms.Normalize([0.485, 0.456, 0.406], [0.229, 0.224, 0.225]),])\n",
    "\n",
    "loader = torch.utils.data.DataLoader(MyIterableDataset(), num_workers=0, shuffle=False, batch_size=10)"
   ]
  },
  {
   "cell_type": "code",
   "execution_count": 10,
   "metadata": {},
   "outputs": [
    {
     "name": "stderr",
     "output_type": "stream",
     "text": [
      "41632it [2:48:47,  4.11it/s]"
     ]
    },
    {
     "name": "stdout",
     "output_type": "stream",
     "text": [
      "Wall time: 2h 48min 47s\n"
     ]
    },
    {
     "name": "stderr",
     "output_type": "stream",
     "text": [
      "\n"
     ]
    }
   ],
   "source": [
    "%%time\n",
    "features = []\n",
    "for batch in tqdm.tqdm(loader):\n",
    "    features.append(AdaptiveAvgPool2d(output_size=1)(model.extract_features(batch.cuda())).detach().cpu().numpy().squeeze())\n",
    "features = np.concatenate(features, axis=0)    "
   ]
  },
  {
   "cell_type": "code",
   "execution_count": 10,
   "metadata": {},
   "outputs": [
    {
     "data": {
      "text/plain": [
       "(416314, 2560)"
      ]
     },
     "execution_count": 10,
     "metadata": {},
     "output_type": "execute_result"
    }
   ],
   "source": [
    "features.shape"
   ]
  },
  {
   "cell_type": "code",
   "execution_count": 11,
   "metadata": {},
   "outputs": [],
   "source": [
    "with open('efficientnet-b7.pickle', 'wb') as f:\n",
    "    pickle.dump(features, f)"
   ]
  }
 ],
 "metadata": {
  "kernelspec": {
   "display_name": "vdc2",
   "language": "python",
   "name": "vdc2"
  },
  "language_info": {
   "codemirror_mode": {
    "name": "ipython",
    "version": 3
   },
   "file_extension": ".py",
   "mimetype": "text/x-python",
   "name": "python",
   "nbconvert_exporter": "python",
   "pygments_lexer": "ipython3",
   "version": "3.7.10"
  }
 },
 "nbformat": 4,
 "nbformat_minor": 4
}
